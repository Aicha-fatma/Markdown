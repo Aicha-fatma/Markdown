{
 "cells": [
  {
   "cell_type": "code",
   "execution_count": 24,
   "id": "bf105616-1969-4eaa-9421-144aec3da9c5",
   "metadata": {},
   "outputs": [
    {
     "ename": "IndentationError",
     "evalue": "unexpected indent (Temp/ipykernel_10360/1208332611.py, line 22)",
     "output_type": "error",
     "traceback": [
      "\u001b[1;36m  File \u001b[1;32m\"C:\\Users\\DELL\\AppData\\Local\\Temp/ipykernel_10360/1208332611.py\"\u001b[1;36m, line \u001b[1;32m22\u001b[0m\n\u001b[1;33m    canvas.create_text(80,100, text=\"Voici notre projet !\",anchor=NW,font=fonte_titre,fill=\"red\")\u001b[0m\n\u001b[1;37m    ^\u001b[0m\n\u001b[1;31mIndentationError\u001b[0m\u001b[1;31m:\u001b[0m unexpected indent\n"
     ]
    }
   ],
   "source": [
    "#Afficher un text avec tkinter\n",
    "#Question 1:\n",
    "## a ##\n",
    "from tkinter import *\n",
    "from tkinter.font import Font\n",
    "root = Tk()\n",
    "canvas = Canvas(root, width=800, height=600, background=\"white\")\n",
    "canvas.pack(fill=\"both\", expand=True)\n",
    "## b ##\n",
    "largeur = 700\n",
    "hauteur = 500\n",
    "couleur_fond = \"lightgray\"\n",
    "couleur_texte = \"black\"\n",
    "canvas.create_rectangle(10,10,largeur,hauteur,width=2,fill=couleur_fond)\n",
    "## c ##\n",
    "fonte_titre = Font(family=\"Times\", weight=\"bold\", size=20)\n",
    "fonte_sous_titre = Font(family=\"Times\", weight=\"bold\", size=16)\n",
    "fonte_gras = Font(family=\"Times\", weight=\"bold\", size=12)\n",
    "fonte_italique = Font(family=\"Times\", slant=\"italic\", size=12)\n",
    "fonte_texte = Font(family=\"Times\", size=12)\n",
    "## d ##\n",
    "\n",
    "canvas.create_text(100,100, text=\"Projet python !\",anchor=NW,font=fonte_sous_titre,fill=\"red\")\n",
    "canvas.create_text(80,100, text=\"Vive Python !\",anchor=NW,font=fonte_gras,fill=\"red\")\n",
    "canvas.create_text(80,80, text=\"Bu texte avec python !\",anchor=NW,font=fonte_italique,fill=\"red\")\n",
    "canvas.create_text(100,100, text=\"Markdown !\",anchor=NW,font=fonte_texte,fill=\"red\")\n",
    "\n",
    "\n",
    "\n",
    "\n",
    "root.mainloop()\n",
    "\n"
   ]
  },
  {
   "cell_type": "code",
   "execution_count": null,
   "id": "485ac057-721f-416a-abb3-79a58c4c42f3",
   "metadata": {},
   "outputs": [],
   "source": []
  },
  {
   "cell_type": "code",
   "execution_count": null,
   "id": "894fef90-515b-454b-8948-b12fe014640a",
   "metadata": {},
   "outputs": [],
   "source": []
  }
 ],
 "metadata": {
  "kernelspec": {
   "display_name": "Python 3 (ipykernel)",
   "language": "python",
   "name": "python3"
  },
  "language_info": {
   "codemirror_mode": {
    "name": "ipython",
    "version": 3
   },
   "file_extension": ".py",
   "mimetype": "text/x-python",
   "name": "python",
   "nbconvert_exporter": "python",
   "pygments_lexer": "ipython3",
   "version": "3.9.7"
  }
 },
 "nbformat": 4,
 "nbformat_minor": 5
}
