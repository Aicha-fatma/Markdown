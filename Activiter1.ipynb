{
 "cells": [
  {
   "cell_type": "code",
   "execution_count": 142,
   "id": "bf105616-1969-4eaa-9421-144aec3da9c5",
   "metadata": {},
   "outputs": [
    {
     "name": "stdout",
     "output_type": "stream",
     "text": [
      "Longueur de 'python' : 83 pixels\n"
     ]
    }
   ],
   "source": [
    "#Afficher un text avec tkinter\n",
    "#Question 1:#\n",
    "## a ##\n",
    "from tkinter import *\n",
    "from tkinter.font import Font\n",
    "root = Tk()\n",
    "canvas = Canvas(root, width=800, height=600, background=\"white\")\n",
    "canvas.pack(fill=\"both\", expand=True)\n",
    "## b ##\n",
    "largeur = 700\n",
    "hauteur = 500\n",
    "couleur_fond = \"lightgray\"\n",
    "couleur_texte = \"black\"\n",
    "canvas.create_rectangle(10,10,largeur,hauteur,width=2,fill=couleur_fond)\n",
    "## c ##\n",
    "fonte_titre = Font(family=\"Times\", weight=\"bold\", size=20)\n",
    "fonte_sous_titre = Font(family=\"Times\", weight=\"bold\", size=16)\n",
    "fonte_gras = Font(family=\"Times\", weight=\"bold\", size=12)\n",
    "fonte_italique = Font(family=\"Times\", slant=\"italic\", size=12)\n",
    "fonte_texte = Font(family=\"Times\", size=12)\n",
    "## d ##\n",
    "canvas.create_text(100,100, text=\"Voici notre projet !\",anchor=NW,font=fonte_titre,fill=\"blue\")\n",
    "canvas.create_text(150,150, text=\"Projet en python !\",anchor=NW,font=fonte_sous_titre,fill=\"blue\")\n",
    "canvas.create_text(170,170, text=\"Vive python !\",anchor=NW,font=fonte_gras,fill=\"blue\")\n",
    "canvas.create_text(190,190, text=\"Du texte avec python !\",anchor=NW,font=fonte_italique,fill=\"blue\")\n",
    "canvas.create_text(210,210, text=\"Markdown!\",anchor=NW,font=fonte_texte,fill=\"blue\")\n",
    "\n",
    "#Question 2:#\n",
    "\n",
    "def encadre_mot(mot,fonte):\n",
    "    mot_canvas = canvas.create_text(250,250, text=mot,font=fonte,fill=\"red\")\n",
    "    x1,y1,x2,y2 = canvas.bbox(mot_canvas)\n",
    "    canvas.create_rectangle(x1,y1,x2,y2,width=2)\n",
    "    return\n",
    "encadre_mot(\"Du texte avec Python\",fonte_titre)\n",
    "\n",
    "#Question 3:#\n",
    "\n",
    "def longueur_mot(mot,fonte):\n",
    "    mot_canvas = canvas.create_text(400,400, text=mot,anchor=NW,font=fonte,fill=\"red\")\n",
    "    x1,y1,x2,y2 = canvas.bbox(mot_canvas)\n",
    "    return x2 - x1\n",
    "\n",
    "print(\"Longueur de 'python' :\",longueur_mot(\"python\",fonte_titre),\"pixels\")\n",
    "encadre_mot(\"python\",fonte_titre)\n",
    "\n",
    "#Question 4:#\n",
    "\n",
    "def choix_fonte(mode,en_gras,en_italique):\n",
    "    if mode == \"titre\":\n",
    "        fonte = fonte_titre\n",
    "    elif mode == \"sous_titre\":\n",
    "        fonte = fonte_sous_titre\n",
    "    else: \n",
    "         if en_gras:\n",
    "                fonte = fonte_gras\n",
    "         elif en_italique:\n",
    "                fonte = fonte_italique\n",
    "         else:\n",
    "                fonte = fonte_texte\n",
    "    return fonte\n",
    "fonte = choix_fonte(\"texte\",False,True)\n",
    "canvas.create_text(450,450, text=\"Ceci est en italique\",anchor=NW,font=fonte,fill=\"red\")\n",
    "\n",
    "\n",
    "\n",
    "root.mainloop()\n",
    "\n"
   ]
  },
  {
   "cell_type": "code",
   "execution_count": null,
   "id": "485ac057-721f-416a-abb3-79a58c4c42f3",
   "metadata": {},
   "outputs": [],
   "source": []
  },
  {
   "cell_type": "code",
   "execution_count": null,
   "id": "894fef90-515b-454b-8948-b12fe014640a",
   "metadata": {},
   "outputs": [],
   "source": []
  },
  {
   "cell_type": "code",
   "execution_count": null,
   "id": "7e322cc0-36cd-4c6f-a666-b326bdcff8fd",
   "metadata": {},
   "outputs": [],
   "source": []
  }
 ],
 "metadata": {
  "kernelspec": {
   "display_name": "Python 3 (ipykernel)",
   "language": "python",
   "name": "python3"
  },
  "language_info": {
   "codemirror_mode": {
    "name": "ipython",
    "version": 3
   },
   "file_extension": ".py",
   "mimetype": "text/x-python",
   "name": "python",
   "nbconvert_exporter": "python",
   "pygments_lexer": "ipython3",
   "version": "3.9.7"
  }
 },
 "nbformat": 4,
 "nbformat_minor": 5
}
